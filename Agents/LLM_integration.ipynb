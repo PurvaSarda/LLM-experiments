{
 "cells": [
  {
   "cell_type": "code",
   "execution_count": 1,
   "metadata": {},
   "outputs": [],
   "source": [
    "from typing import TypedDict, List\n",
    "from langchain_openai import ChatOpenAI\n",
    "from langchain_core.messages import HumanMessage\n",
    "from langgraph.graph import StateGraph, START, END\n",
    "from dotenv import load_dotenv\n",
    "\n",
    "class AgentState(TypedDict):\n",
    "    messages : list[HumanMessage]\n",
    "\n",
    "llm = ChatOpenAI(model=\"gpt-4o-mini\", temperature=0)\n",
    "\n"
   ]
  },
  {
   "cell_type": "code",
   "execution_count": 2,
   "metadata": {},
   "outputs": [],
   "source": [
    "def process_message(state:AgentState)->AgentState:\n",
    "    \"\"\"\n",
    "    This function processes the message\n",
    "    \"\"\"\n",
    "    response = llm.invoke(state['messages'])\n",
    "    print(f\"\\nAI_Response: {response.content}\")\n",
    "    return state\n"
   ]
  },
  {
   "cell_type": "code",
   "execution_count": null,
   "metadata": {},
   "outputs": [],
   "source": [
    "graph = StateGraph(AgentState)\n",
    "graph.add_node(\"process_message\", process_message)\n",
    "graph.add_edge(START, \"process_message\")\n",
    "graph.add_edge(\"process_message\", END)\n",
    "\n",
    "app = graph.compile()\n",
    "\n",
    "user_input = input(\"Enter your message: \")\n",
    "app.invoke({\"messages\": [HumanMessage(content=user_input)]})"
   ]
  }
 ],
 "metadata": {
  "kernelspec": {
   "display_name": ".venv",
   "language": "python",
   "name": "python3"
  },
  "language_info": {
   "codemirror_mode": {
    "name": "ipython",
    "version": 3
   },
   "file_extension": ".py",
   "mimetype": "text/x-python",
   "name": "python",
   "nbconvert_exporter": "python",
   "pygments_lexer": "ipython3",
   "version": "3.9.22"
  }
 },
 "nbformat": 4,
 "nbformat_minor": 2
}
